{
  "nbformat": 4,
  "nbformat_minor": 0,
  "metadata": {
    "colab": {
      "provenance": [],
      "authorship_tag": "ABX9TyMVdQPHD45Hb3zXIW9yzH61",
      "include_colab_link": true
    },
    "kernelspec": {
      "name": "python3",
      "display_name": "Python 3"
    },
    "language_info": {
      "name": "python"
    }
  },
  "cells": [
    {
      "cell_type": "markdown",
      "metadata": {
        "id": "view-in-github",
        "colab_type": "text"
      },
      "source": [
        "<a href=\"https://colab.research.google.com/github/Myles-Kaye/BTE.320.Fall.24/blob/main/In_Class_Assignments.ipynb\" target=\"_parent\"><img src=\"https://colab.research.google.com/assets/colab-badge.svg\" alt=\"Open In Colab\"/></a>"
      ]
    },
    {
      "cell_type": "code",
      "source": [
        "# Assignment 1 Shape Area Calculator\n",
        "# calculate surface area cylinder\n",
        "pi = 3.14 # pi\n",
        "r = 3 # radius\n",
        "h = 10 # height\n",
        "\n",
        "# calc area\n",
        "area = 2 * pi * r ** 2 + 2 * pi * r * h\n",
        "# display result on screen\n",
        "print(area)"
      ],
      "metadata": {
        "colab": {
          "base_uri": "https://localhost:8080/"
        },
        "id": "yyb5MG4Ak5DT",
        "outputId": "b77356bb-6357-4f4e-eb92-21049c838130"
      },
      "execution_count": null,
      "outputs": [
        {
          "output_type": "stream",
          "name": "stdout",
          "text": [
            "244.92000000000002\n"
          ]
        }
      ]
    },
    {
      "cell_type": "code",
      "source": [
        "# Assignment 2 Rock, Paper, Scissors\n",
        "p1 = input('Player 1 select: rock, paper, or scissors: ')\n",
        "p2 = input('Player 2 select: rock, paper, or scissors: ')\n",
        "\n",
        "if p1 == p2:\n",
        "  print('Draw')\n",
        "if p1 == 'rock' and p2 == 'paper':\n",
        "  print('Player 2 wins')\n",
        "elif p1 == 'rock' and p2 == 'scissors':\n",
        "  print('Player 1 wins')\n",
        "elif p1 == 'paper' and p2 == 'scissors':\n",
        "  print('Player 2 wins')\n",
        "elif p1 == 'paper' and p2 == 'rock':\n",
        "  print('Player 1 wins')\n",
        "elif p1 == 'scissors' and p2 == 'rock':\n",
        "  print('Player 2 wins')\n",
        "elif p1 == 'scissors' and p2 == 'paper':\n",
        "  print('Player 1 wins')"
      ],
      "metadata": {
        "colab": {
          "base_uri": "https://localhost:8080/"
        },
        "id": "NR6hkqg8tf5Q",
        "outputId": "6c23fbbc-3689-4833-e1c0-9aff6f352b97"
      },
      "execution_count": null,
      "outputs": [
        {
          "output_type": "stream",
          "name": "stdout",
          "text": [
            "Player 1 select: rock, paper, or scissors: rock\n",
            "Player 2 select: rock, paper, or scissors: rock\n",
            "Draw\n"
          ]
        }
      ]
    },
    {
      "cell_type": "code",
      "source": [
        "# Assignment 3 Numerical Calculator\n",
        "n1 = float(input('Enter a number: '))\n",
        "n2 = float(input('Enter a number: '))\n",
        "symbol = input(('Enter a symbol (+, -, *, /, **): '))\n",
        "\n",
        "if symbol == '+':\n",
        "  print(n1 + n2)\n",
        "elif symbol == '-':\n",
        "  print(n1 - n2)\n",
        "elif symbol == '*':\n",
        "  print(n1 * n2)\n",
        "elif symbol == '/':\n",
        "  print(n1 / n2)\n",
        "elif symbol == '**':\n",
        "  print(n1 ** n2)"
      ],
      "metadata": {
        "colab": {
          "base_uri": "https://localhost:8080/"
        },
        "id": "BzHuXGGj5eTv",
        "outputId": "7981889e-8b41-4b2a-c8a1-02c579dce4d4"
      },
      "execution_count": null,
      "outputs": [
        {
          "output_type": "stream",
          "name": "stdout",
          "text": [
            "Enter a number: 5.5\n",
            "Enter a number: 1.1\n",
            "Enter a symbol (+, -, *, /, **): /\n",
            "5.0\n"
          ]
        }
      ]
    },
    {
      "cell_type": "code",
      "source": [
        "# Assignment 4 Rock, Paper, Scissors WHILE Loop\n",
        "play = input('Do you want to play rock, paper, scissors? ')\n",
        "\n",
        "while play == 'yes':\n",
        "  p1 = input('Player 1 select: rock, paper, or scissors: ')\n",
        "  p2 = input('Player 2 select: rock, paper, or scissors: ')\n",
        "\n",
        "  if p1 == p2:\n",
        "    print('Draw')\n",
        "  if p1 == 'rock' and p2 == 'paper':\n",
        "    print('Player 2 wins')\n",
        "  elif p1 == 'rock' and p2 == 'scissors':\n",
        "    print('Player 1 wins')\n",
        "  elif p1 == 'paper' and p2 == 'scissors':\n",
        "    print('Player 2 wins')\n",
        "  elif p1 == 'paper' and p2 == 'rock':\n",
        "    print('Player 1 wins')\n",
        "  elif p1 == 'scissors' and p2 == 'rock':\n",
        "    print('Player 2 wins')\n",
        "  elif p1 == 'scissors' and p2 == 'paper':\n",
        "    print('Player 1 wins')\n",
        "  play = input('Do you want to play again? ')"
      ],
      "metadata": {
        "colab": {
          "base_uri": "https://localhost:8080/"
        },
        "id": "-iVYhyzS2c4p",
        "outputId": "94d81789-21fd-4fee-9676-f9ad83ff1094"
      },
      "execution_count": null,
      "outputs": [
        {
          "name": "stdout",
          "output_type": "stream",
          "text": [
            "Do you want to play rock, paper, scissors? yes\n",
            "Player 1 select: rock, paper, or scissors: paper\n",
            "Player 2 select: rock, paper, or scissors: rock\n",
            "Player 1 wins\n",
            "Do you want to play again? yes\n",
            "Player 1 select: rock, paper, or scissors: rock\n",
            "Player 2 select: rock, paper, or scissors: paper\n",
            "Player 2 wins\n",
            "Do you want to play again? no\n"
          ]
        }
      ]
    },
    {
      "cell_type": "code",
      "source": [
        "# Assignment 5 Parking Lot\n",
        "flat_rate = 5\n",
        "hourly_rate = 2.50\n",
        "\n",
        "for i in range(1,9,1):\n",
        "  charge = flat_rate + (hourly_rate * i)\n",
        "  if charge < 10:\n",
        "    charge = 10\n",
        "  elif charge > 20:\n",
        "    charge = 20\n",
        "  print(i, charge)"
      ],
      "metadata": {
        "colab": {
          "base_uri": "https://localhost:8080/"
        },
        "id": "FLOUji_78-d_",
        "outputId": "e5568868-a23e-435b-b9b6-4f07c213ab1a"
      },
      "execution_count": null,
      "outputs": [
        {
          "output_type": "stream",
          "name": "stdout",
          "text": [
            "1 10\n",
            "2 10.0\n",
            "3 12.5\n",
            "4 15.0\n",
            "5 17.5\n",
            "6 20.0\n",
            "7 20\n",
            "8 20\n"
          ]
        }
      ]
    },
    {
      "cell_type": "code",
      "source": [
        "# Assignment 6 Movie Theater\n",
        "ticket_price = 10\n",
        "fixed_cost = 200\n",
        "\n",
        "for i in range(0, 201, 25):\n",
        "  attendees = 20 + (2*round((i)**0.5))\n",
        "  profit = (attendees * ticket_price) - i - fixed_cost\n",
        "  print(i, profit)"
      ],
      "metadata": {
        "colab": {
          "base_uri": "https://localhost:8080/"
        },
        "id": "72aKMTnmDSde",
        "outputId": "765ef860-8bb7-4806-d7d2-84e60ebdaf9f"
      },
      "execution_count": null,
      "outputs": [
        {
          "output_type": "stream",
          "name": "stdout",
          "text": [
            "0 0\n",
            "25 75\n",
            "50 90\n",
            "75 105\n",
            "100 100\n",
            "125 95\n",
            "150 90\n",
            "175 85\n",
            "200 80\n"
          ]
        }
      ]
    },
    {
      "cell_type": "code",
      "source": [
        "# Assignment 7\n",
        "l = []\n",
        "\n",
        "item = int(input('Give a value: '))\n",
        "\n",
        "\n",
        "while item != 0:\n",
        "  l.append(item)\n",
        "  item = int(input('Give a value: '))\n",
        "print(l)\n"
      ],
      "metadata": {
        "colab": {
          "base_uri": "https://localhost:8080/"
        },
        "id": "US1g4jLsIsDt",
        "outputId": "3619a6ab-7204-476d-fe67-214141cf9d05"
      },
      "execution_count": null,
      "outputs": [
        {
          "output_type": "stream",
          "name": "stdout",
          "text": [
            "Give a value: 4\n",
            "Give a value: 5\n",
            "Give a value: 6\n",
            "Give a value: 3\n",
            "Give a value: 5\n",
            "Give a value: 3\n",
            "Give a value: 0\n",
            "[4, 5, 6, 3, 5, 3]\n"
          ]
        }
      ]
    },
    {
      "cell_type": "code",
      "source": [
        "months = {}\n",
        "\n",
        "names = [\"Jan\", \"Feb\", \"Mar\", \"Apr\", \"May\", \"Jun\", \"Jul\", \"Aug\", \"Sep\", \"Oct\", \"Nov\", \"Dec\"]\n",
        "numbers = [1,2,3,4,5,6,7,8,9,10,11,12]\n",
        "\n",
        "for i in range(len(names)):\n",
        "  months[numbers[i]] = names[i]\n",
        "\n",
        "print(months)"
      ],
      "metadata": {
        "colab": {
          "base_uri": "https://localhost:8080/"
        },
        "id": "YgMAsLIJ44qc",
        "outputId": "0018a5eb-128e-4751-d6e2-c668bbd89e49"
      },
      "execution_count": 2,
      "outputs": [
        {
          "output_type": "stream",
          "name": "stdout",
          "text": [
            "{1: 'Jan', 2: 'Feb', 3: 'Mar', 4: 'Apr', 5: 'May', 6: 'Jun', 7: 'Jul', 8: 'Aug', 9: 'Sep', 10: 'Oct', 11: 'Nov', 12: 'Dec'}\n"
          ]
        }
      ]
    }
  ]
}