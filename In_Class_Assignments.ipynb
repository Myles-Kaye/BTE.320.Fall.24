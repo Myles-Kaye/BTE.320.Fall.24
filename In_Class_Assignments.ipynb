{
  "nbformat": 4,
  "nbformat_minor": 0,
  "metadata": {
    "colab": {
      "provenance": [],
      "authorship_tag": "ABX9TyP67gCm4aQTFw2Q3VdP2vhk",
      "include_colab_link": true
    },
    "kernelspec": {
      "name": "python3",
      "display_name": "Python 3"
    },
    "language_info": {
      "name": "python"
    }
  },
  "cells": [
    {
      "cell_type": "markdown",
      "metadata": {
        "id": "view-in-github",
        "colab_type": "text"
      },
      "source": [
        "<a href=\"https://colab.research.google.com/github/Myles-Kaye/BTE.320.Fall.24/blob/main/In_Class_Assignments.ipynb\" target=\"_parent\"><img src=\"https://colab.research.google.com/assets/colab-badge.svg\" alt=\"Open In Colab\"/></a>"
      ]
    },
    {
      "cell_type": "code",
      "source": [
        "# Assignment 1\n",
        "# calculate surface area cylinder\n",
        "pi = 3.14 # pi\n",
        "r = 3 # radius\n",
        "h = 10 # height\n",
        "\n",
        "# calc area\n",
        "area = 2 * pi * r ** 2 + 2 * pi * r * h\n",
        "# display result on screen\n",
        "print(area)"
      ],
      "metadata": {
        "colab": {
          "base_uri": "https://localhost:8080/"
        },
        "id": "yyb5MG4Ak5DT",
        "outputId": "b77356bb-6357-4f4e-eb92-21049c838130"
      },
      "execution_count": null,
      "outputs": [
        {
          "output_type": "stream",
          "name": "stdout",
          "text": [
            "244.92000000000002\n"
          ]
        }
      ]
    },
    {
      "cell_type": "code",
      "source": [
        "# Assignment 2\n",
        "p1 = input('Player 1 select: rock, paper, or scissors: ')\n",
        "p2 = input('Player 2 select: rock, paper, or scissors: ')\n",
        "\n",
        "if p1 == p2:\n",
        "  print('Draw')\n",
        "if p1 == 'rock' and p2 == 'paper':\n",
        "  print('Player 2 wins')\n",
        "elif p1 == 'rock' and p2 == 'scissors':\n",
        "  print('Player 1 wins')\n",
        "elif p1 == 'paper' and p2 == 'scissors':\n",
        "  print('Player 2 wins')\n",
        "elif p1 == 'paper' and p2 == 'rock':\n",
        "  print('Player 1 wins')\n",
        "elif p1 == 'scissors' and p2 == 'rock':\n",
        "  print('Player 2 wins')\n",
        "elif p1 == 'scissors' and p2 == 'paper':\n",
        "  print('Player 1 wins')"
      ],
      "metadata": {
        "colab": {
          "base_uri": "https://localhost:8080/"
        },
        "id": "NR6hkqg8tf5Q",
        "outputId": "6c23fbbc-3689-4833-e1c0-9aff6f352b97"
      },
      "execution_count": null,
      "outputs": [
        {
          "output_type": "stream",
          "name": "stdout",
          "text": [
            "Player 1 select: rock, paper, or scissors: rock\n",
            "Player 2 select: rock, paper, or scissors: rock\n",
            "Draw\n"
          ]
        }
      ]
    },
    {
      "cell_type": "code",
      "source": [
        "# Assignment 3\n",
        "n1 = float(input('Enter a number: '))\n",
        "n2 = float(input('Enter a number: '))\n",
        "symbol = input(('Enter a symbol (+, -, *, /, **): '))\n",
        "\n",
        "if symbol == '+':\n",
        "  print(n1 + n2)\n",
        "elif symbol == '-':\n",
        "  print(n1 - n2)\n",
        "elif symbol == '*':\n",
        "  print(n1 * n2)\n",
        "elif symbol == '/':\n",
        "  print(n1 / n2)\n",
        "elif symbol == '**':\n",
        "  print(n1 ** n2)"
      ],
      "metadata": {
        "colab": {
          "base_uri": "https://localhost:8080/"
        },
        "id": "BzHuXGGj5eTv",
        "outputId": "7981889e-8b41-4b2a-c8a1-02c579dce4d4"
      },
      "execution_count": null,
      "outputs": [
        {
          "output_type": "stream",
          "name": "stdout",
          "text": [
            "Enter a number: 5.5\n",
            "Enter a number: 1.1\n",
            "Enter a symbol (+, -, *, /, **): /\n",
            "5.0\n"
          ]
        }
      ]
    },
    {
      "cell_type": "code",
      "source": [
        "# Assignment 4\n",
        "play = input('Do you want to play rock, paper, scissors? ')\n",
        "\n",
        "while play == 'yes':\n",
        "  p1 = input('Player 1 select: rock, paper, or scissors: ')\n",
        "  p2 = input('Player 2 select: rock, paper, or scissors: ')\n",
        "\n",
        "  if p1 == p2:\n",
        "    print('Draw')\n",
        "  if p1 == 'rock' and p2 == 'paper':\n",
        "    print('Player 2 wins')\n",
        "  elif p1 == 'rock' and p2 == 'scissors':\n",
        "    print('Player 1 wins')\n",
        "  elif p1 == 'paper' and p2 == 'scissors':\n",
        "    print('Player 2 wins')\n",
        "  elif p1 == 'paper' and p2 == 'rock':\n",
        "    print('Player 1 wins')\n",
        "  elif p1 == 'scissors' and p2 == 'rock':\n",
        "    print('Player 2 wins')\n",
        "  elif p1 == 'scissors' and p2 == 'paper':\n",
        "    print('Player 1 wins')\n",
        "  play = input('Do you want to play again? ')"
      ],
      "metadata": {
        "colab": {
          "base_uri": "https://localhost:8080/"
        },
        "id": "-iVYhyzS2c4p",
        "outputId": "94d81789-21fd-4fee-9676-f9ad83ff1094"
      },
      "execution_count": 14,
      "outputs": [
        {
          "name": "stdout",
          "output_type": "stream",
          "text": [
            "Do you want to play rock, paper, scissors? yes\n",
            "Player 1 select: rock, paper, or scissors: paper\n",
            "Player 2 select: rock, paper, or scissors: rock\n",
            "Player 1 wins\n",
            "Do you want to play again? yes\n",
            "Player 1 select: rock, paper, or scissors: rock\n",
            "Player 2 select: rock, paper, or scissors: paper\n",
            "Player 2 wins\n",
            "Do you want to play again? no\n"
          ]
        }
      ]
    }
  ]
}