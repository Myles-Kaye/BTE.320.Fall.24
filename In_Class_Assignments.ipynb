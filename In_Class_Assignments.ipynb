{
  "nbformat": 4,
  "nbformat_minor": 0,
  "metadata": {
    "colab": {
      "provenance": [],
      "authorship_tag": "ABX9TyNnSuJhyiLVFJEOJ3P9wsXQ",
      "include_colab_link": true
    },
    "kernelspec": {
      "name": "python3",
      "display_name": "Python 3"
    },
    "language_info": {
      "name": "python"
    }
  },
  "cells": [
    {
      "cell_type": "markdown",
      "metadata": {
        "id": "view-in-github",
        "colab_type": "text"
      },
      "source": [
        "<a href=\"https://colab.research.google.com/github/Myles-Kaye/BTE.320.Fall.24/blob/main/In_Class_Assignments.ipynb\" target=\"_parent\"><img src=\"https://colab.research.google.com/assets/colab-badge.svg\" alt=\"Open In Colab\"/></a>"
      ]
    },
    {
      "cell_type": "code",
      "source": [
        "# Assignment 1 Shape Area Calculator\n",
        "pi = 3.14\n",
        "r = 3\n",
        "h = 10\n",
        "\n",
        "area = 2 * pi * r ** 2 + 2 * pi * r * h\n",
        "print(area)"
      ],
      "metadata": {
        "colab": {
          "base_uri": "https://localhost:8080/"
        },
        "id": "yyb5MG4Ak5DT",
        "outputId": "cc2dacee-cdb7-4f7a-c5ab-f88f187005bb"
      },
      "execution_count": 6,
      "outputs": [
        {
          "output_type": "stream",
          "name": "stdout",
          "text": [
            "244.92000000000002\n"
          ]
        }
      ]
    },
    {
      "cell_type": "code",
      "source": [
        "# Assignment 2 Rock, Paper, Scissors WHILE Loop\n",
        "play = input('Do you want to play rock, paper, scissors? ')\n",
        "\n",
        "while play == 'yes':\n",
        "  p1 = input('Player 1 select: rock, paper, or scissors: ')\n",
        "  p2 = input('Player 2 select: rock, paper, or scissors: ')\n",
        "\n",
        "  if p1 == p2:\n",
        "    print('Draw')\n",
        "  if p1 == 'rock' and p2 == 'paper':\n",
        "    print('Player 2 wins')\n",
        "  elif p1 == 'rock' and p2 == 'scissors':\n",
        "    print('Player 1 wins')\n",
        "  elif p1 == 'paper' and p2 == 'scissors':\n",
        "    print('Player 2 wins')\n",
        "  elif p1 == 'paper' and p2 == 'rock':\n",
        "    print('Player 1 wins')\n",
        "  elif p1 == 'scissors' and p2 == 'rock':\n",
        "    print('Player 2 wins')\n",
        "  elif p1 == 'scissors' and p2 == 'paper':\n",
        "    print('Player 1 wins')\n",
        "  play = input('Do you want to play again? ')"
      ],
      "metadata": {
        "colab": {
          "base_uri": "https://localhost:8080/"
        },
        "id": "iIGgzPh9c_wk",
        "outputId": "47024202-e12d-4cb3-9b3f-12c57813e28c"
      },
      "execution_count": 9,
      "outputs": [
        {
          "name": "stdout",
          "output_type": "stream",
          "text": [
            "Do you want to play rock, paper, scissors? yes\n",
            "Player 1 select: rock, paper, or scissors: rock\n",
            "Player 2 select: rock, paper, or scissors: paper\n",
            "Player 2 wins\n",
            "Do you want to play again? yes\n",
            "Player 1 select: rock, paper, or scissors: paper\n",
            "Player 2 select: rock, paper, or scissors: scissors\n",
            "Player 2 wins\n",
            "Do you want to play again? yes\n",
            "Player 1 select: rock, paper, or scissors: scissors\n",
            "Player 2 select: rock, paper, or scissors: rock\n",
            "Player 2 wins\n",
            "Do you want to play again? no\n"
          ]
        }
      ]
    },
    {
      "cell_type": "code",
      "source": [
        "# Assignment 3 Numerical Calculator\n",
        "n1 = float(input('Enter a number: '))\n",
        "n2 = float(input('Enter a number: '))\n",
        "symbol = input(('Enter a symbol (+, -, *, /, **): '))\n",
        "\n",
        "if symbol == '+':\n",
        "  print(n1 + n2)\n",
        "elif symbol == '-':\n",
        "  print(n1 - n2)\n",
        "elif symbol == '*':\n",
        "  print(n1 * n2)\n",
        "elif symbol == '/':\n",
        "  print(n1 / n2)\n",
        "elif symbol == '**':\n",
        "  print(n1 ** n2)"
      ],
      "metadata": {
        "colab": {
          "base_uri": "https://localhost:8080/"
        },
        "id": "BzHuXGGj5eTv",
        "outputId": "6bc3d985-baff-4522-d952-1b45389b4d89"
      },
      "execution_count": 12,
      "outputs": [
        {
          "output_type": "stream",
          "name": "stdout",
          "text": [
            "Enter a number: 5.5\n",
            "Enter a number: 1.1\n",
            "Enter a symbol (+, -, *, /, **): /\n",
            "5.0\n"
          ]
        }
      ]
    },
    {
      "cell_type": "code",
      "source": [
        "# Assignment 4 Parking Garage\n",
        "flat_rate = 5\n",
        "hourly_rate = 2.50\n",
        "\n",
        "for i in range(1,9,1):\n",
        "  charge = flat_rate + (hourly_rate * i)\n",
        "  if charge < 10:\n",
        "    charge = 10\n",
        "  elif charge > 20:\n",
        "    charge = 20\n",
        "  print(i, charge)"
      ],
      "metadata": {
        "colab": {
          "base_uri": "https://localhost:8080/"
        },
        "id": "FLOUji_78-d_",
        "outputId": "bc409015-4014-46ce-9e64-b9aa99458872"
      },
      "execution_count": 10,
      "outputs": [
        {
          "output_type": "stream",
          "name": "stdout",
          "text": [
            "1 10\n",
            "2 10.0\n",
            "3 12.5\n",
            "4 15.0\n",
            "5 17.5\n",
            "6 20.0\n",
            "7 20\n",
            "8 20\n"
          ]
        }
      ]
    },
    {
      "cell_type": "code",
      "source": [
        "# Assignment 5 Movie Theater\n",
        "ticket_price = 10\n",
        "fixed_cost = 200\n",
        "\n",
        "for i in range(0, 201, 25):\n",
        "  attendees = 20 + (2*round((i)**0.5))\n",
        "  profit = (attendees * ticket_price) - i - fixed_cost\n",
        "  print(i, profit)"
      ],
      "metadata": {
        "colab": {
          "base_uri": "https://localhost:8080/"
        },
        "id": "72aKMTnmDSde",
        "outputId": "7ffc548d-751f-4c17-e9ac-5b73cd835221"
      },
      "execution_count": 11,
      "outputs": [
        {
          "output_type": "stream",
          "name": "stdout",
          "text": [
            "0 0\n",
            "25 75\n",
            "50 90\n",
            "75 105\n",
            "100 100\n",
            "125 95\n",
            "150 90\n",
            "175 85\n",
            "200 80\n"
          ]
        }
      ]
    },
    {
      "cell_type": "code",
      "source": [
        "#Assignment 6 Months2Numbers Dictionary\n",
        "months = {}\n",
        "\n",
        "names = [\"Jan\", \"Feb\", \"Mar\", \"Apr\", \"May\", \"Jun\", \"Jul\", \"Aug\", \"Sep\", \"Oct\", \"Nov\", \"Dec\"]\n",
        "numbers = [1,2,3,4,5,6,7,8,9,10,11,12]\n",
        "\n",
        "for idx in range(len(names)):\n",
        "  months[numbers[idx]] = names[idx]\n",
        "\n",
        "print(months)"
      ],
      "metadata": {
        "colab": {
          "base_uri": "https://localhost:8080/"
        },
        "id": "YgMAsLIJ44qc",
        "outputId": "8e7636b5-1cf5-4754-accc-191bd0228fb6"
      },
      "execution_count": 13,
      "outputs": [
        {
          "output_type": "stream",
          "name": "stdout",
          "text": [
            "{1: 'Jan', 2: 'Feb', 3: 'Mar', 4: 'Apr', 5: 'May', 6: 'Jun', 7: 'Jul', 8: 'Aug', 9: 'Sep', 10: 'Oct', 11: 'Nov', 12: 'Dec'}\n"
          ]
        }
      ]
    },
    {
      "cell_type": "code",
      "source": [
        "#Assignment 7 Fee Calculation and display function\n",
        "def calcfee(hours, decimals=2):\n",
        "  Parking_fee = 5 + (hours * 2.5)\n",
        "  Parking_fee = round(Parking_fee, decimals)\n",
        "  return Parking_fee\n",
        "\n",
        "def displayfee(Parking_fee):\n",
        "  print(\"Parking fee\", \":\", \"$\", Parking_fee)\n",
        "\n",
        "hours = int(input('Enter hours parked: '))\n",
        "displayfee(calcfee(hours))"
      ],
      "metadata": {
        "colab": {
          "base_uri": "https://localhost:8080/"
        },
        "id": "qtRi9cIweb1Q",
        "outputId": "b1b07fb8-7225-456d-e594-5d09307b9585"
      },
      "execution_count": 14,
      "outputs": [
        {
          "output_type": "stream",
          "name": "stdout",
          "text": [
            "Enter hours parked: 5\n",
            "Parking fee : $ 17.5\n"
          ]
        }
      ]
    },
    {
      "cell_type": "code",
      "source": [
        "#Assignment 8 Reverse Function (recursion)\n",
        "def rev(S):\n",
        "    if len(S) == 1:\n",
        "        return S\n",
        "    else:\n",
        "        return S[-1] + rev(S[:-1])\n",
        "\n",
        "S = \"Hello\"\n",
        "print(rev(S))"
      ],
      "metadata": {
        "colab": {
          "base_uri": "https://localhost:8080/"
        },
        "id": "5GffoVsUeqEv",
        "outputId": "c9075750-66b3-41be-f3ad-948a6e1a5656"
      },
      "execution_count": 15,
      "outputs": [
        {
          "output_type": "stream",
          "name": "stdout",
          "text": [
            "olleH\n"
          ]
        }
      ]
    },
    {
      "cell_type": "code",
      "source": [
        "#Assignment 9: Student Class\n",
        "class Student:\n",
        "  def __init__(self, name, number):\n",
        "    self.name = name\n",
        "    self.number = number\n",
        "    self.__courses = []\n",
        "\n",
        "  def enroll(self, new_course):\n",
        "    if new_course not in self.__courses:\n",
        "      self.__courses.append(new_course)\n",
        "    else:\n",
        "      print(f' You have already enrolled in {new_course}')\n",
        "\n",
        "  def get_courses(self):\n",
        "    return self.__courses\n",
        "\n",
        "  def __str__(self):\n",
        "    return f'Name: {self.name}'\n",
        "\n",
        "s = Student('Bob', '12345')\n",
        "s.enroll('ABC123')\n",
        "s.enroll('ABC456')\n",
        "s.enroll('ABC789')\n",
        "s.get_courses()"
      ],
      "metadata": {
        "colab": {
          "base_uri": "https://localhost:8080/"
        },
        "id": "MnHQD1U6e88l",
        "outputId": "c392d7ee-120a-4bf4-928c-f56b2f4d000c"
      },
      "execution_count": 16,
      "outputs": [
        {
          "output_type": "execute_result",
          "data": {
            "text/plain": [
              "['ABC123', 'ABC456', 'ABC789']"
            ]
          },
          "metadata": {},
          "execution_count": 16
        }
      ]
    }
  ]
}